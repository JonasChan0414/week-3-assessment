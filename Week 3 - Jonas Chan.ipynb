{
 "cells": [
  {
   "cell_type": "code",
   "execution_count": 1,
   "id": "7d13e0df",
   "metadata": {},
   "outputs": [
    {
     "data": {
      "text/html": [
       "<div>\n",
       "<style scoped>\n",
       "    .dataframe tbody tr th:only-of-type {\n",
       "        vertical-align: middle;\n",
       "    }\n",
       "\n",
       "    .dataframe tbody tr th {\n",
       "        vertical-align: top;\n",
       "    }\n",
       "\n",
       "    .dataframe thead th {\n",
       "        text-align: right;\n",
       "    }\n",
       "</style>\n",
       "<table border=\"1\" class=\"dataframe\">\n",
       "  <thead>\n",
       "    <tr style=\"text-align: right;\">\n",
       "      <th></th>\n",
       "      <th>A</th>\n",
       "      <th>B</th>\n",
       "      <th>C</th>\n",
       "      <th>D</th>\n",
       "    </tr>\n",
       "  </thead>\n",
       "  <tbody>\n",
       "    <tr>\n",
       "      <th>0</th>\n",
       "      <td>1</td>\n",
       "      <td>0</td>\n",
       "      <td>0</td>\n",
       "      <td>1</td>\n",
       "    </tr>\n",
       "    <tr>\n",
       "      <th>1</th>\n",
       "      <td>0</td>\n",
       "      <td>1</td>\n",
       "      <td>1</td>\n",
       "      <td>0</td>\n",
       "    </tr>\n",
       "    <tr>\n",
       "      <th>2</th>\n",
       "      <td>0</td>\n",
       "      <td>1</td>\n",
       "      <td>1</td>\n",
       "      <td>0</td>\n",
       "    </tr>\n",
       "    <tr>\n",
       "      <th>3</th>\n",
       "      <td>1</td>\n",
       "      <td>0</td>\n",
       "      <td>0</td>\n",
       "      <td>1</td>\n",
       "    </tr>\n",
       "  </tbody>\n",
       "</table>\n",
       "</div>"
      ],
      "text/plain": [
       "   A  B  C  D\n",
       "0  1  0  0  1\n",
       "1  0  1  1  0\n",
       "2  0  1  1  0\n",
       "3  1  0  0  1"
      ]
     },
     "execution_count": 1,
     "metadata": {},
     "output_type": "execute_result"
    }
   ],
   "source": [
    "#Problem 1\n",
    "\n",
    "\n",
    "dict_1={'A':[1,0,0,1], 'B':[0,1,1,0], 'C':[0,1,1,0], 'D':[1,0,0,1]}\n",
    "new = pd.DataFrame.from_dict(dict_1)\n",
    "new\n"
   ]
  },
  {
   "cell_type": "code",
   "execution_count": 43,
   "id": "b31e2976",
   "metadata": {},
   "outputs": [
    {
     "name": "stdout",
     "output_type": "stream",
     "text": [
      "                                             address  bookmarks  dislikes  \\\n",
      "0                     Shop J-K., 200 Hollywood Road,       5838         6   \n",
      "1                           G/F, 108 Hollywood Road,       3492         2   \n",
      "2                           G/F, 206 Hollywood Road,       5517         5   \n",
      "3  Shop 3018, 3/F, Shun Tak Centre, 168-200 Conna...       1173         1   \n",
      "4                          G/F, 38 Queens Road West,       1064         1   \n",
      "5  Shop 1, G/F, King Ho Building, 41-49 Aberdeen ...       3300         0   \n",
      "6                               G/F, 12 Tung Street,       5101         3   \n",
      "7  G/F, Sea View Commercial Building, 21-24 Conna...        591         3   \n",
      "8  Shop 1B, G/F, Cheungs Building, 1 Wing Lok Str...       1224         0   \n",
      "9                             G/F, 8 Hillier Street,       1452         0   \n",
      "\n",
      "         food_type  likes                              name number_of_reviews  \\\n",
      "0  Hong Kong Style     78         For Kee Restaurant 科記咖啡餐室     (133 Reviews)   \n",
      "1    International     20  Blue · Butcher & Meat Specialist      (30 Reviews)   \n",
      "2             Thai     31                         Chachawan      (43 Reviews)   \n",
      "3  Hong Kong Style     23                 Capital Café 華星冰室      (39 Reviews)   \n",
      "4           Indian     50              Namaste Kitchen 滋味廚房      (57 Reviews)   \n",
      "5       Vietnamese     21                Bun Cha Vietnamese      (33 Reviews)   \n",
      "6          Western     14               Halfway Coffee 半路咖啡      (25 Reviews)   \n",
      "7        Guangdong     30        Fung Shing Restaurant 鳳城酒家      (37 Reviews)   \n",
      "8          Western     28                     Veggi Monster      (32 Reviews)   \n",
      "9         Japanese     28                         Pokéworld      (37 Reviews)   \n",
      "\n",
      "  price_range  \n",
      "0   Below $50  \n",
      "1    $201-400  \n",
      "2    $201-400  \n",
      "3   Below $50  \n",
      "4     $51-100  \n",
      "5    $101-200  \n",
      "6   Below $50  \n",
      "7    $101-200  \n",
      "8     $51-100  \n",
      "9     $51-100  \n"
     ]
    }
   ],
   "source": [
    "#Problem 2a\n",
    "import pandas as pd\n",
    "import requests\n",
    "\n",
    "def load():\n",
    "\n",
    " url = 'https://raw.githubusercontent.com/XccelerateOrg/aug_2022_pandas_week3-JonasChan0414/master/data/openrice.csv?token=GHSAT0AAAAAABZDGRRPSCNGPRSQ2HJTXGPWYZUKZXQ'\n",
    " df_1 = pd.read_csv(url,index_col=0)\n",
    " df_1.reset_index(drop=True, inplace=True)\n",
    " print(df_1)\n",
    "\n",
    "load()\n",
    "\n",
    "\n"
   ]
  },
  {
   "cell_type": "code",
   "execution_count": 55,
   "id": "538a3d12",
   "metadata": {},
   "outputs": [
    {
     "name": "stdout",
     "output_type": "stream",
     "text": [
      "0             Cheap\n",
      "1    Very Expensive\n",
      "2    Very Expensive\n",
      "3             Cheap\n",
      "4         Not Cheap\n",
      "5         Expensive\n",
      "6             Cheap\n",
      "7         Expensive\n",
      "8         Not Cheap\n",
      "9         Not Cheap\n",
      "Name: price_category, dtype: object\n"
     ]
    }
   ],
   "source": [
    "#Problem 2b\n",
    "def makeCategory():\n",
    "    import pandas\n",
    "    import numpy\n",
    "    df_1=df.assign(price_category = [\"Cheap\", \"Very Expensive\", \n",
    "                                   \"Very Expensive\", \"Cheap\", \"Not Cheap\", \n",
    "                                   \"Expensive\", \"Cheap\",\"Expensive\", \"Not Cheap\", \n",
    "                                   \"Not Cheap\"])\n",
    "    \n",
    "    column_1 = df_1.loc[:,\"price_category\"]\n",
    "    print(column_1)\n",
    "    \n",
    "makeCategory()\n"
   ]
  },
  {
   "cell_type": "code",
   "execution_count": 109,
   "id": "31c339ba",
   "metadata": {},
   "outputs": [
    {
     "name": "stdout",
     "output_type": "stream",
     "text": [
      "             dislikes\n",
      "price_range          \n",
      "$101-200            3\n",
      "$201-400            7\n",
      "$51-100             1\n",
      "Below $50          10\n"
     ]
    }
   ],
   "source": [
    "#Problem 2c\n",
    "def totalDislike():\n",
    "    res = df_1[[\"price_range\",\"dislikes\"]]\n",
    "    table_1= res.groupby(\"price_range\").sum(\"dislikes\")\n",
    "    print(table_1)\n",
    "    \n",
    "totalDislike()"
   ]
  },
  {
   "cell_type": "code",
   "execution_count": 137,
   "id": "dd4625bc",
   "metadata": {},
   "outputs": [
    {
     "name": "stdout",
     "output_type": "stream",
     "text": [
      "                 bookmarks\n",
      "food_type                 \n",
      "Guangdong              591\n",
      "Hong Kong Style       7011\n",
      "Indian                1064\n",
      "International         3492\n",
      "Japanese              1452\n",
      "Thai                  5517\n",
      "Vietnamese            3300\n",
      "Western               6325\n"
     ]
    }
   ],
   "source": [
    "def totalBookmarks():\n",
    "    res_2 = df_1[[\"food_type\",\"bookmarks\"]]\n",
    "    table_2= res_2.groupby(\"food_type\").sum(\"bookmarks\")\n",
    "    \n",
    "    print(table_2)\n",
    "\n",
    "    \n",
    "\n",
    "totalBookmarks()"
   ]
  },
  {
   "cell_type": "code",
   "execution_count": 103,
   "id": "15e658f6",
   "metadata": {},
   "outputs": [
    {
     "name": "stdout",
     "output_type": "stream",
     "text": [
      "0    (133 Reviews)\n",
      "1     (30 Reviews)\n",
      "2     (43 Reviews)\n",
      "3     (39 Reviews)\n",
      "4     (57 Reviews)\n",
      "5     (33 Reviews)\n",
      "6     (25 Reviews)\n",
      "7     (37 Reviews)\n",
      "8     (32 Reviews)\n",
      "9     (37 Reviews)\n",
      "Name: number_of_reviews, dtype: object\n"
     ]
    }
   ],
   "source": [
    "#Problem 2e\n",
    "def extractReview():\n",
    "    res = df_1[\"number_of_reviews\"]\n",
    "    print (res)\n",
    "    \n",
    "extractReview()"
   ]
  },
  {
   "cell_type": "code",
   "execution_count": null,
   "id": "2ff18522",
   "metadata": {},
   "outputs": [],
   "source": []
  }
 ],
 "metadata": {
  "kernelspec": {
   "display_name": "Python 3 (ipykernel)",
   "language": "python",
   "name": "python3"
  },
  "language_info": {
   "codemirror_mode": {
    "name": "ipython",
    "version": 3
   },
   "file_extension": ".py",
   "mimetype": "text/x-python",
   "name": "python",
   "nbconvert_exporter": "python",
   "pygments_lexer": "ipython3",
   "version": "3.9.12"
  }
 },
 "nbformat": 4,
 "nbformat_minor": 5
}
